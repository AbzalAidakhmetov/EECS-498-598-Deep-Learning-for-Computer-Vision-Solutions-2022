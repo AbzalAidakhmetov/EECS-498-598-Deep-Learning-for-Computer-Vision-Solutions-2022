{
 "cells": [
  {
   "cell_type": "markdown",
   "metadata": {},
   "source": [
    "## Checking Weight Initialization Example from Lecture 10"
   ]
  },
  {
   "cell_type": "code",
   "execution_count": 1,
   "metadata": {},
   "outputs": [],
   "source": [
    "# import dependencies\n",
    "\n",
    "import torch\n",
    "import numpy as np"
   ]
  },
  {
   "cell_type": "code",
   "execution_count": 2,
   "metadata": {},
   "outputs": [
    {
     "data": {
      "text/plain": [
       "6"
      ]
     },
     "execution_count": 2,
     "metadata": {},
     "output_type": "execute_result"
    }
   ],
   "source": [
    "dims = [4096] * 7\n",
    "\n",
    "hs = []\n",
    "x = np.random.randn(16, dims[0])\n",
    "\n",
    "for Din, Dout in zip(dims[:-1], dims[1:]):\n",
    "    W = 0.01 * np.random.randn(Din, Dout)\n",
    "    x = np.tanh(x.dot(W))\n",
    "    hs.append(x)\n",
    "\n",
    "len(hs)"
   ]
  },
  {
   "cell_type": "code",
   "execution_count": 3,
   "metadata": {},
   "outputs": [
    {
     "data": {
      "text/plain": [
       "[np.float64(-0.002256099579156435),\n",
       " np.float64(-0.0018513263611844093),\n",
       " np.float64(-0.0005907147607573586),\n",
       " np.float64(-5.237595443678645e-05),\n",
       " np.float64(9.401403285150774e-05),\n",
       " np.float64(-2.37279526153435e-05)]"
      ]
     },
     "execution_count": 3,
     "metadata": {},
     "output_type": "execute_result"
    }
   ],
   "source": [
    "[np.mean(cur_x) for cur_x in hs]"
   ]
  },
  {
   "cell_type": "code",
   "execution_count": 4,
   "metadata": {},
   "outputs": [
    {
     "data": {
      "text/plain": [
       "[np.float64(0.4914126655262676),\n",
       " np.float64(0.2885768324076693),\n",
       " np.float64(0.1791428487103789),\n",
       " np.float64(0.11306192839036884),\n",
       " np.float64(0.07187561104169118),\n",
       " np.float64(0.046153351850122884)]"
      ]
     },
     "execution_count": 4,
     "metadata": {},
     "output_type": "execute_result"
    }
   ],
   "source": [
    "[np.std(cur_x) for cur_x in hs]"
   ]
  },
  {
   "cell_type": "code",
   "execution_count": null,
   "metadata": {},
   "outputs": [],
   "source": []
  },
  {
   "cell_type": "code",
   "execution_count": null,
   "metadata": {},
   "outputs": [],
   "source": [
    "from matplotlib.pyplot import hist\n",
    "\n",
    "hist(hs[0], bins=1000)"
   ]
  },
  {
   "cell_type": "markdown",
   "metadata": {},
   "source": [
    "## What is @staticmethod and when we use it."
   ]
  },
  {
   "cell_type": "code",
   "execution_count": 6,
   "metadata": {},
   "outputs": [
    {
     "name": "stdout",
     "output_type": "stream",
     "text": [
      "3\n"
     ]
    },
    {
     "ename": "TypeError",
     "evalue": "A.g() takes 2 positional arguments but 3 were given",
     "output_type": "error",
     "traceback": [
      "\u001b[0;31m---------------------------------------------------------------------------\u001b[0m",
      "\u001b[0;31mTypeError\u001b[0m                                 Traceback (most recent call last)",
      "Cell \u001b[0;32mIn[6], line 12\u001b[0m\n\u001b[1;32m      7\u001b[0m         \u001b[38;5;28;01mreturn\u001b[39;00m x \u001b[38;5;241m+\u001b[39m y\n\u001b[1;32m      9\u001b[0m \u001b[38;5;28mprint\u001b[39m(A()\u001b[38;5;241m.\u001b[39mf(\u001b[38;5;241m1\u001b[39m,\u001b[38;5;241m2\u001b[39m))\n\u001b[0;32m---> 12\u001b[0m \u001b[38;5;28mprint\u001b[39m(\u001b[43mA\u001b[49m\u001b[43m(\u001b[49m\u001b[43m)\u001b[49m\u001b[38;5;241;43m.\u001b[39;49m\u001b[43mg\u001b[49m\u001b[43m(\u001b[49m\u001b[38;5;241;43m1\u001b[39;49m\u001b[43m,\u001b[49m\u001b[38;5;241;43m2\u001b[39;49m\u001b[43m)\u001b[49m)\n",
      "\u001b[0;31mTypeError\u001b[0m: A.g() takes 2 positional arguments but 3 were given"
     ]
    }
   ],
   "source": [
    "class A:\n",
    "    @staticmethod\n",
    "    def f(x,y):\n",
    "        return x + y\n",
    "    \n",
    "    def g(x, y):\n",
    "        return x + y\n",
    "\n",
    "print(A().f(1,2))\n",
    "\n",
    "\n",
    "print(A().g(1,2))"
   ]
  },
  {
   "cell_type": "code",
   "execution_count": 2,
   "metadata": {},
   "outputs": [],
   "source": [
    "import torch"
   ]
  },
  {
   "cell_type": "code",
   "execution_count": 12,
   "metadata": {},
   "outputs": [
    {
     "data": {
      "text/plain": [
       "torch.Size([16, 1029])"
      ]
     },
     "execution_count": 12,
     "metadata": {},
     "output_type": "execute_result"
    }
   ],
   "source": [
    "box = torch.randint(0, 19, size=(16, 1029, 5))\n",
    "box[0][0]\n",
    "class_idx = box[..., -1]\n",
    "class_idx.shape"
   ]
  },
  {
   "cell_type": "code",
   "execution_count": 11,
   "metadata": {},
   "outputs": [
    {
     "data": {
      "text/plain": [
       "torch.Size([16464, 20])"
      ]
     },
     "execution_count": 11,
     "metadata": {},
     "output_type": "execute_result"
    }
   ],
   "source": [
    "one_hot = torch.zeros(16, 1029, 20)\n",
    "reshaped = one_hot.reshape(-1, 20)\n",
    "\n",
    "reshaped.shape"
   ]
  },
  {
   "cell_type": "code",
   "execution_count": 15,
   "metadata": {},
   "outputs": [
    {
     "ename": "IndexError",
     "evalue": "index 18 is out of bounds for dimension 0 with size 16",
     "output_type": "error",
     "traceback": [
      "\u001b[0;31m---------------------------------------------------------------------------\u001b[0m",
      "\u001b[0;31mIndexError\u001b[0m                                Traceback (most recent call last)",
      "Cell \u001b[0;32mIn[15], line 1\u001b[0m\n\u001b[0;32m----> 1\u001b[0m \u001b[43mone_hot\u001b[49m\u001b[43m[\u001b[49m\u001b[43mclass_idx\u001b[49m\u001b[43m]\u001b[49m \u001b[38;5;241m=\u001b[39m \u001b[38;5;241m1\u001b[39m\n",
      "\u001b[0;31mIndexError\u001b[0m: index 18 is out of bounds for dimension 0 with size 16"
     ]
    }
   ],
   "source": [
    "one_hot[class_idx] = 1"
   ]
  },
  {
   "cell_type": "code",
   "execution_count": 40,
   "metadata": {},
   "outputs": [],
   "source": [
    "boxes = (100.0 * torch.rand(5000, 4)).round()\n",
    "boxes[:, 2] = boxes[:, 2] + boxes[:, 0] + 1.0\n",
    "boxes[:, 3] = boxes[:, 3] + boxes[:, 1] + 1.0\n",
    "scores = torch.randn(5000)"
   ]
  },
  {
   "cell_type": "code",
   "execution_count": 41,
   "metadata": {},
   "outputs": [
    {
     "data": {
      "text/plain": [
       "tensor([3409, 3532, 2519,  ..., 2343, 1881, 1888])"
      ]
     },
     "execution_count": 41,
     "metadata": {},
     "output_type": "execute_result"
    }
   ],
   "source": [
    "order = scores.argsort(descending=True)\n",
    "order"
   ]
  },
  {
   "cell_type": "code",
   "execution_count": 19,
   "metadata": {},
   "outputs": [
    {
     "data": {
      "text/plain": [
       "5000"
      ]
     },
     "execution_count": 19,
     "metadata": {},
     "output_type": "execute_result"
    }
   ],
   "source": [
    "order.numel()"
   ]
  },
  {
   "cell_type": "code",
   "execution_count": 23,
   "metadata": {},
   "outputs": [
    {
     "data": {
      "text/plain": [
       "torch.Size([5000, 4])"
      ]
     },
     "execution_count": 23,
     "metadata": {},
     "output_type": "execute_result"
    }
   ],
   "source": [
    "boxes.shape"
   ]
  },
  {
   "cell_type": "code",
   "execution_count": 34,
   "metadata": {},
   "outputs": [],
   "source": [
    "iou_threshold = 0.5"
   ]
  },
  {
   "cell_type": "code",
   "execution_count": 42,
   "metadata": {},
   "outputs": [
    {
     "name": "stdout",
     "output_type": "stream",
     "text": [
      "tensor([139., 133.,  76.,  ...,  67., 114., 100.])\n",
      "tensor([139., 133.,  76.,  ...,  67., 114., 100.])\n",
      "tensor([139., 133.,  76.,  ...,  67., 114., 100.])\n"
     ]
    }
   ],
   "source": [
    "keep = torch.empty_like(order)\n",
    "\n",
    "x1, y1, x2, y2 = boxes.T\n",
    "\n",
    "areas = (x2 - x1) * (y2 - y1)\n",
    "index = 0\n",
    "\n",
    "while order.numel() > 1:\n",
    "    i = order[0]\n",
    "    keep[index] = i\n",
    "    index += 1\n",
    "    order = order[1:]\n",
    "\n",
    "    x11 = x1[i]\n",
    "    y11 = y1[i]\n",
    "    x22 = x2[i]\n",
    "    y22 = y2[i]\n",
    "    print(x2)\n",
    "    intersection = (torch.min(x22, x2[order]) - torch.max(x11, x1[order])) * (torch.min(y11, y1[order]) - torch.max(y22, y2[order]))\n",
    "    invalid = intersection <= 0\n",
    "    union = areas[i] + areas[order] - intersection\n",
    "    \n",
    "    IoU = (intersection / union)\n",
    "\n",
    "    IoU[invalid] = 1\n",
    "\n",
    "    order = order[IoU < iou_threshold]\n",
    "\n",
    "    # break"
   ]
  },
  {
   "cell_type": "code",
   "execution_count": 43,
   "metadata": {},
   "outputs": [
    {
     "data": {
      "text/plain": [
       "tensor([3409, 3758, 4017,  ...,    0,    0,    0])"
      ]
     },
     "execution_count": 43,
     "metadata": {},
     "output_type": "execute_result"
    }
   ],
   "source": [
    "keep"
   ]
  },
  {
   "cell_type": "code",
   "execution_count": 31,
   "metadata": {},
   "outputs": [
    {
     "data": {
      "text/plain": [
       "tensor([71., 81., 81.,  ..., 69.,  9., 81.])"
      ]
     },
     "execution_count": 31,
     "metadata": {},
     "output_type": "execute_result"
    }
   ],
   "source": [
    "torch.min(x22, x2[order])"
   ]
  },
  {
   "cell_type": "code",
   "execution_count": 46,
   "metadata": {},
   "outputs": [
    {
     "data": {
      "text/plain": [
       "tensor([[-0.9431,  0.3383, -1.3956,  0.3293, -0.0883],\n",
       "        [-0.3418,  0.2713,  0.1910, -1.8345,  1.3574],\n",
       "        [ 0.1800, -0.3412,  0.1500,  2.3205, -0.0336]])"
      ]
     },
     "execution_count": 46,
     "metadata": {},
     "output_type": "execute_result"
    }
   ],
   "source": [
    "scores = torch.randn(3, 5)\n",
    "scores"
   ]
  },
  {
   "cell_type": "code",
   "execution_count": 5,
   "metadata": {},
   "outputs": [],
   "source": [
    "import torch\n",
    "N = 5\n",
    "M = 3\n",
    "boxes1 = torch.randn(M, 1)\n",
    "boxes2 = torch.randn(N, 1)"
   ]
  },
  {
   "cell_type": "code",
   "execution_count": 10,
   "metadata": {},
   "outputs": [
    {
     "data": {
      "text/plain": [
       "tensor([[ 0.3605],\n",
       "        [ 1.6638],\n",
       "        [-0.6169]])"
      ]
     },
     "execution_count": 10,
     "metadata": {},
     "output_type": "execute_result"
    }
   ],
   "source": [
    "boxes1"
   ]
  },
  {
   "cell_type": "code",
   "execution_count": 7,
   "metadata": {},
   "outputs": [
    {
     "data": {
      "text/plain": [
       "tensor([[-0.7625],\n",
       "        [-0.1307],\n",
       "        [ 0.5809],\n",
       "        [-0.2875],\n",
       "        [ 1.5804]])"
      ]
     },
     "execution_count": 7,
     "metadata": {},
     "output_type": "execute_result"
    }
   ],
   "source": [
    "boxes2"
   ]
  },
  {
   "cell_type": "code",
   "execution_count": 11,
   "metadata": {},
   "outputs": [
    {
     "data": {
      "text/plain": [
       "tensor([[[-0.7625],\n",
       "         [-0.1307],\n",
       "         [ 0.3605],\n",
       "         [-0.2875],\n",
       "         [ 0.3605]],\n",
       "\n",
       "        [[-0.7625],\n",
       "         [-0.1307],\n",
       "         [ 0.5809],\n",
       "         [-0.2875],\n",
       "         [ 1.5804]],\n",
       "\n",
       "        [[-0.7625],\n",
       "         [-0.6169],\n",
       "         [-0.6169],\n",
       "         [-0.6169],\n",
       "         [-0.6169]]])"
      ]
     },
     "execution_count": 11,
     "metadata": {},
     "output_type": "execute_result"
    }
   ],
   "source": [
    "torch.min(boxes1.unsqueeze(1), boxes2.unsqueeze(0))"
   ]
  },
  {
   "cell_type": "code",
   "execution_count": 12,
   "metadata": {},
   "outputs": [
    {
     "data": {
      "text/plain": [
       "tensor([[-1.3889, -0.4123, -0.9019,  1.5055, -1.6385],\n",
       "        [-0.4762, -0.9023,  1.5034,  0.9991, -1.7529],\n",
       "        [ 0.7847, -1.0700, -0.2384, -1.2256, -0.6155],\n",
       "        [-0.2814, -0.6549,  2.0578,  0.8564,  0.1976],\n",
       "        [ 1.0172, -0.8259,  1.3408,  0.7952,  1.3581],\n",
       "        [-2.3796, -0.9719,  1.0648,  0.1317,  0.9281],\n",
       "        [ 0.6062,  0.5487,  0.4198, -0.8212, -1.1942],\n",
       "        [-0.7292,  0.2112,  0.7901, -0.9316,  0.8672],\n",
       "        [-1.3553,  1.6075, -0.3743,  1.7987, -1.8518],\n",
       "        [-0.2093,  0.7644,  0.7719,  0.3336, -0.8175]])"
      ]
     },
     "execution_count": 12,
     "metadata": {},
     "output_type": "execute_result"
    }
   ],
   "source": [
    "match_matrix = torch.randn(10, 5)\n",
    "match_matrix"
   ]
  },
  {
   "cell_type": "code",
   "execution_count": 13,
   "metadata": {},
   "outputs": [
    {
     "data": {
      "text/plain": [
       "torch.return_types.max(\n",
       "values=tensor([1.5055, 1.5034, 0.7847, 2.0578, 1.3581, 1.0648, 0.6062, 0.8672, 1.7987,\n",
       "        0.7719]),\n",
       "indices=tensor([3, 2, 0, 2, 4, 2, 0, 4, 3, 2]))"
      ]
     },
     "execution_count": 13,
     "metadata": {},
     "output_type": "execute_result"
    }
   ],
   "source": [
    "match_matrix.max(dim=1)"
   ]
  },
  {
   "cell_type": "code",
   "execution_count": 15,
   "metadata": {},
   "outputs": [
    {
     "data": {
      "image/png": "[encoded data removed]",
      "text/plain": [
       "<Figure size 600x600 with 1 Axes>"
      ]
     },
     "metadata": {},
     "output_type": "display_data"
    }
   ],
   "source": [
    "import matplotlib.pyplot as plt\n",
    "import matplotlib.patches as patches\n",
    "\n",
    "# Define your rectangles as plain lists (x1, y1, x2, y2)\n",
    "input_anchors = [\n",
    "    (20, 40, 80, 90),\n",
    "]\n",
    "input_boxes = [\n",
    "    (10, 15, 100, 115),\n",
    "]\n",
    "\n",
    "fig, ax = plt.subplots(figsize=(6, 6))\n",
    "\n",
    "# Plot each anchor in blue\n",
    "for x1, y1, x2, y2 in input_anchors:\n",
    "    rect = patches.Rectangle(\n",
    "        (x1, y1),          # lower‑left corner\n",
    "        x2 - x1,           # width\n",
    "        y2 - y1,           # height\n",
    "        linewidth=2,\n",
    "        edgecolor='blue',\n",
    "        facecolor='none',\n",
    "        label='Anchor'\n",
    "    )\n",
    "    ax.add_patch(rect)\n",
    "\n",
    "# Plot each GT box in red\n",
    "for x1, y1, x2, y2 in input_boxes:\n",
    "    rect = patches.Rectangle(\n",
    "        (x1, y1),\n",
    "        x2 - x1,\n",
    "        y2 - y1,\n",
    "        linewidth=2,\n",
    "        edgecolor='red',\n",
    "        facecolor='none',\n",
    "        label='GT Box'\n",
    "    )\n",
    "    ax.add_patch(rect)\n",
    "\n",
    "# Determine the display limits\n",
    "all_x2 = [r[2] for r in input_anchors] + [r[2] for r in input_boxes]\n",
    "all_y2 = [r[3] for r in input_anchors] + [r[3] for r in input_boxes]\n",
    "max_x, max_y = max(all_x2), max(all_y2)\n",
    "\n",
    "ax.set_xlim(0, max_x + 10)\n",
    "ax.set_ylim(0, max_y + 10)\n",
    "ax.set_aspect('equal')\n",
    "ax.invert_yaxis()  # if you want image‐style coordinates (y increases downward)\n",
    "\n",
    "# One legend entry each\n",
    "handles = [\n",
    "    patches.Patch(edgecolor='blue', facecolor='none', label='Anchors'),\n",
    "    patches.Patch(edgecolor='red', facecolor='none', label='GT Boxes'),\n",
    "]\n",
    "ax.legend(handles=handles, loc='upper right')\n",
    "\n",
    "ax.set_title('Anchors (blue) and GT Boxes (red)')\n",
    "ax.set_xlabel('X')\n",
    "ax.set_ylabel('Y')\n",
    "\n",
    "plt.show()\n"
   ]
  },
  {
   "cell_type": "code",
   "execution_count": 18,
   "metadata": {},
   "outputs": [
    {
     "data": {
      "text/plain": [
       "tensor([-0.8048,  0.9941, -0.0257,  0.3315,  2.1705,  0.3613, -0.4382, -0.4241,\n",
       "        -1.5304, -1.2921])"
      ]
     },
     "execution_count": 18,
     "metadata": {},
     "output_type": "execute_result"
    }
   ],
   "source": [
    "scores = torch.randn(10)\n",
    "scores"
   ]
  },
  {
   "cell_type": "code",
   "execution_count": 29,
   "metadata": {},
   "outputs": [
    {
     "data": {
      "text/plain": [
       "tensor([[ 0.1753, -0.0313,  1.8549,  0.7277],\n",
       "        [-2.1304, -0.3281,  0.3890, -0.2823],\n",
       "        [ 1.2826, -1.0733,  0.1804,  0.5030],\n",
       "        [ 1.8292, -0.0114, -2.1644,  0.4923],\n",
       "        [ 0.8639, -0.1557, -0.4151,  3.5432],\n",
       "        [-1.0251,  0.8702,  0.6226, -1.1233],\n",
       "        [-0.9409, -0.0891,  0.8287,  2.4856],\n",
       "        [-1.0087, -1.1129, -0.2242, -1.4193],\n",
       "        [-2.0083, -0.2041,  0.5523, -1.1922],\n",
       "        [-0.3012, -0.7936, -0.1102,  0.9253]])"
      ]
     },
     "execution_count": 29,
     "metadata": {},
     "output_type": "execute_result"
    }
   ],
   "source": [
    "boxes = torch.randn(10, 4)\n",
    "boxes"
   ]
  },
  {
   "cell_type": "code",
   "execution_count": 27,
   "metadata": {},
   "outputs": [
    {
     "data": {
      "text/plain": [
       "tensor([4, 1, 5])"
      ]
     },
     "execution_count": 27,
     "metadata": {},
     "output_type": "execute_result"
    }
   ],
   "source": [
    "index = torch.topk(scores, 3, sorted=False).indices\n",
    "index"
   ]
  },
  {
   "cell_type": "code",
   "execution_count": 30,
   "metadata": {},
   "outputs": [
    {
     "data": {
      "text/plain": [
       "tensor([[ 0.8639, -0.1557, -0.4151,  3.5432],\n",
       "        [-2.1304, -0.3281,  0.3890, -0.2823],\n",
       "        [-1.0251,  0.8702,  0.6226, -1.1233]])"
      ]
     },
     "execution_count": 30,
     "metadata": {},
     "output_type": "execute_result"
    }
   ],
   "source": [
    "boxes[index]"
   ]
  },
  {
   "cell_type": "code",
   "execution_count": 8,
   "metadata": {},
   "outputs": [
    {
     "data": {
      "text/plain": [
       "torch.Size([4, 25])"
      ]
     },
     "execution_count": 8,
     "metadata": {},
     "output_type": "execute_result"
    }
   ],
   "source": [
    "import torch\n",
    "input = torch.randn(4, 1, 5, 5)\n",
    "\n",
    "out = torch.nn.Flatten()(input)\n",
    "out.shape"
   ]
  },
  {
   "cell_type": "code",
   "execution_count": 20,
   "metadata": {},
   "outputs": [],
   "source": [
    "level_props = [torch.randn(5, 4), torch.randn(3, 4)]\n",
    "\n",
    "batch_ids = []\n",
    "for i in range(len(level_props)):\n",
    "    batch_ids.extend([i] * len(level_props[i]))\n",
    "\n",
    "batch_ids = torch.tensor(batch_ids, dtype=level_props[0].dtype)"
   ]
  },
  {
   "cell_type": "code",
   "execution_count": 25,
   "metadata": {},
   "outputs": [
    {
     "data": {
      "text/plain": [
       "tensor([[ 0.0000,  0.1483, -0.2815,  0.0103,  1.7794],\n",
       "        [ 0.0000, -1.3737,  0.8634, -0.4303, -0.1880],\n",
       "        [ 0.0000,  0.4117,  0.5207, -0.3557,  0.3785],\n",
       "        [ 0.0000,  0.9432, -1.3906,  1.3396,  1.4083],\n",
       "        [ 0.0000,  1.9804,  0.1735, -1.0616, -0.0478],\n",
       "        [ 1.0000,  0.0106,  0.0901,  0.2662,  1.1077],\n",
       "        [ 1.0000, -0.4760,  2.0655,  0.4241, -0.2444],\n",
       "        [ 1.0000, -0.4660,  2.2836,  1.1281, -0.2491]])"
      ]
     },
     "execution_count": 25,
     "metadata": {},
     "output_type": "execute_result"
    }
   ],
   "source": [
    "torch.cat([batch_ids[:, None], torch.cat(level_props, dim=0)], dim=1) "
   ]
  },
  {
   "cell_type": "code",
   "execution_count": 26,
   "metadata": {},
   "outputs": [
    {
     "data": {
      "text/plain": [
       "tensor([[-0.3963, -0.5023, -0.7048, -0.4039, -0.4442],\n",
       "        [ 1.4605, -0.3500, -0.1021,  0.8280, -0.2750],\n",
       "        [-1.6292, -1.3581,  0.0051,  0.6387, -1.1421],\n",
       "        [ 0.5192,  0.7772,  0.3584,  1.1729,  1.3297],\n",
       "        [ 0.3027,  0.1749,  0.9958, -0.0861, -0.6729],\n",
       "        [ 0.9891, -1.7631,  0.9113, -0.7817,  0.4930],\n",
       "        [ 0.2738, -0.6397,  0.1719, -1.0196, -1.0477],\n",
       "        [-0.5751, -1.5268, -0.1939,  0.6863, -1.5563],\n",
       "        [ 1.0053,  0.9352, -0.2446, -1.2254,  0.8029],\n",
       "        [-1.0038,  1.5999,  1.7966,  1.1255, -0.0627]])"
      ]
     },
     "execution_count": 26,
     "metadata": {},
     "output_type": "execute_result"
    }
   ],
   "source": [
    "pred_cls_logits = torch.randn(10, 5)\n",
    "pred_cls_logits"
   ]
  },
  {
   "cell_type": "code",
   "execution_count": 28,
   "metadata": {},
   "outputs": [
    {
     "data": {
      "text/plain": [
       "tensor([0, 0, 3, 4, 2, 0, 0, 3, 0, 2])"
      ]
     },
     "execution_count": 28,
     "metadata": {},
     "output_type": "execute_result"
    }
   ],
   "source": [
    "pred_classes = pred_cls_logits.argmax(dim=1)\n",
    "pred_classes"
   ]
  },
  {
   "cell_type": "code",
   "execution_count": 32,
   "metadata": {},
   "outputs": [
    {
     "data": {
      "text/plain": [
       "tensor([[0.2184, 0.1964, 0.1604, 0.2167, 0.2082],\n",
       "        [0.4806, 0.0786, 0.1007, 0.2553, 0.0847],\n",
       "        [0.0534, 0.0700, 0.2738, 0.5159, 0.0869],\n",
       "        [0.1367, 0.1769, 0.1164, 0.2627, 0.3073],\n",
       "        [0.2026, 0.1783, 0.4053, 0.1374, 0.0764],\n",
       "        [0.3613, 0.0230, 0.3342, 0.0615, 0.2200],\n",
       "        [0.3514, 0.1410, 0.3174, 0.0964, 0.0937],\n",
       "        [0.1480, 0.0571, 0.2167, 0.5226, 0.0555],\n",
       "        [0.3182, 0.2966, 0.0912, 0.0342, 0.2599],\n",
       "        [0.0238, 0.3222, 0.3923, 0.2005, 0.0611]])"
      ]
     },
     "execution_count": 32,
     "metadata": {},
     "output_type": "execute_result"
    }
   ],
   "source": [
    "pred_scores = torch.softmax(pred_cls_logits, dim=1)\n",
    "pred_scores"
   ]
  },
  {
   "cell_type": "code",
   "execution_count": 33,
   "metadata": {},
   "outputs": [
    {
     "data": {
      "text/plain": [
       "tensor([0.2184, 0.4806, 0.5159, 0.3073, 0.4053, 0.3613, 0.3514, 0.5226, 0.3182,\n",
       "        0.3923])"
      ]
     },
     "execution_count": 33,
     "metadata": {},
     "output_type": "execute_result"
    }
   ],
   "source": [
    "pred_scores[torch.arange(pred_cls_logits.shape[0]), pred_classes]"
   ]
  },
  {
   "cell_type": "code",
   "execution_count": 2,
   "metadata": {},
   "outputs": [
    {
     "data": {
      "text/plain": [
       "torch.Size([4, 5])"
      ]
     },
     "execution_count": 2,
     "metadata": {},
     "output_type": "execute_result"
    }
   ],
   "source": [
    "import torch\n",
    "\n",
    "x = torch.randn(4, 3, 5)\n",
    "x[:, 2, :].shape"
   ]
  },
  {
   "cell_type": "code",
   "execution_count": 3,
   "metadata": {},
   "outputs": [],
   "source": [
    "cache = (4, 3, 10)\n",
    "d = {}\n",
    "d[1] = cache"
   ]
  },
  {
   "cell_type": "code",
   "execution_count": null,
   "metadata": {},
   "outputs": [],
   "source": [
    "N, D = (4, 5)\n",
    "\n",
    "W_embed = torch.randn(10, D)\n",
    "x = torch.tensor([[2, 3, 1, 5], [1, 2, 3, 4]]) # N, T\n",
    "\n"
   ]
  },
  {
   "cell_type": "code",
   "execution_count": 12,
   "metadata": {},
   "outputs": [
    {
     "data": {
      "text/plain": [
       "tensor([[-1.5883, -0.8210, -0.1308, -0.2796,  0.9687],\n",
       "        [ 1.9127,  1.1411, -1.0743, -0.2175,  1.5869],\n",
       "        [-2.4361,  1.3625, -0.7736,  1.0817, -1.3516],\n",
       "        [-0.0821,  0.8138,  0.5633,  1.7205,  1.3133],\n",
       "        [-0.2510, -0.0164,  1.1907,  1.0945, -0.7586],\n",
       "        [-0.4875,  0.9622, -0.8413, -0.4698,  0.2831],\n",
       "        [ 1.3136,  1.0918,  0.9411, -0.4803, -0.0995],\n",
       "        [ 2.1041, -0.0896, -0.7127, -0.5432, -1.1746],\n",
       "        [-0.5581, -1.6907, -1.7156,  0.7137, -0.6522],\n",
       "        [-1.0099, -0.5021,  1.4268,  0.0344, -0.6284]])"
      ]
     },
     "execution_count": 12,
     "metadata": {},
     "output_type": "execute_result"
    }
   ],
   "source": [
    "W_embed"
   ]
  },
  {
   "cell_type": "code",
   "execution_count": 15,
   "metadata": {},
   "outputs": [
    {
     "data": {
      "text/plain": [
       "torch.Size([2, 4, 5])"
      ]
     },
     "execution_count": 15,
     "metadata": {},
     "output_type": "execute_result"
    }
   ],
   "source": [
    "W_embed[x, :].shape"
   ]
  },
  {
   "cell_type": "code",
   "execution_count": 55,
   "metadata": {},
   "outputs": [
    {
     "data": {
      "text/plain": [
       "tensor(0.1755)"
      ]
     },
     "execution_count": 55,
     "metadata": {},
     "output_type": "execute_result"
    }
   ],
   "source": [
    "import torch.nn.functional as F\n",
    "x = torch.tensor([[0., 5., 2., 3.]])  # shape (1,4)\n",
    "y = torch.tensor([1])                 # shape (1,)\n",
    "F.cross_entropy(x, y, ignore_index=0)\n"
   ]
  },
  {
   "cell_type": "code",
   "execution_count": 59,
   "metadata": {},
   "outputs": [
    {
     "data": {
      "text/plain": [
       "tensor(0.1755)"
      ]
     },
     "execution_count": 59,
     "metadata": {},
     "output_type": "execute_result"
    }
   ],
   "source": [
    "import torch.nn.functional as F\n",
    "x = torch.tensor([[0., 5., 2., 4.], [0., 5., 2., 3.]])  # shape (1,4)\n",
    "y = torch.tensor([0, 1])                 # shape (1,)\n",
    "F.cross_entropy(x, y, ignore_index=0)\n"
   ]
  },
  {
   "cell_type": "code",
   "execution_count": 72,
   "metadata": {},
   "outputs": [
    {
     "data": {
      "text/plain": [
       "tensor([[[[-0.7106, -0.6259],\n",
       "          [-0.8698,  1.6348]],\n",
       "\n",
       "         [[ 0.7722,  0.0137],\n",
       "          [ 1.7835, -0.4669]],\n",
       "\n",
       "         [[-0.1405, -0.1944],\n",
       "          [ 0.5236,  0.2908]]],\n",
       "\n",
       "\n",
       "        [[[ 0.1350, -0.6452],\n",
       "          [-1.8245, -1.0826]],\n",
       "\n",
       "         [[ 0.6299, -0.1010],\n",
       "          [-1.6583, -0.9360]],\n",
       "\n",
       "         [[ 0.8456,  1.8165],\n",
       "          [-2.0519,  0.7429]]]])"
      ]
     },
     "execution_count": 72,
     "metadata": {},
     "output_type": "execute_result"
    }
   ],
   "source": [
    "x = torch.randn(2, 3, 2, 2)\n",
    "x"
   ]
  },
  {
   "cell_type": "code",
   "execution_count": 76,
   "metadata": {},
   "outputs": [
    {
     "data": {
      "text/plain": [
       "tensor(-0.1429)"
      ]
     },
     "execution_count": 76,
     "metadata": {},
     "output_type": "execute_result"
    }
   ],
   "source": [
    "x[0, 0].mean()"
   ]
  },
  {
   "cell_type": "code",
   "execution_count": 74,
   "metadata": {},
   "outputs": [
    {
     "data": {
      "text/plain": [
       "tensor([[-0.1429,  0.5256,  0.1199],\n",
       "        [-0.8543, -0.5163,  0.3383]])"
      ]
     },
     "execution_count": 74,
     "metadata": {},
     "output_type": "execute_result"
    }
   ],
   "source": [
    "N, C, H, W = x.shape\n",
    "F.adaptive_avg_pool2d(x, output_size=(1, 1)).squeeze()"
   ]
  },
  {
   "cell_type": "code",
   "execution_count": 126,
   "metadata": {},
   "outputs": [
    {
     "data": {
      "text/plain": [
       "tensor([[ 0.3039,  0.9171,  1.5610, -1.4433],\n",
       "        [-0.6314,  0.1086, -1.2454,  0.9417],\n",
       "        [ 0.0439,  1.3373,  0.2215,  1.3320],\n",
       "        [-0.4583, -0.6118,  0.2442,  1.4807],\n",
       "        [ 0.3184,  0.1594,  0.7070,  0.7606],\n",
       "        [ 0.0074,  0.4585,  2.2081, -2.4962],\n",
       "        [ 0.2325,  0.9410, -0.8417, -0.8316],\n",
       "        [-1.0554, -0.5107, -1.6353,  1.7669],\n",
       "        [-0.7411, -2.1383,  2.3942,  2.8423],\n",
       "        [ 0.8837, -1.0153, -0.1795, -0.6369]])"
      ]
     },
     "execution_count": 126,
     "metadata": {},
     "output_type": "execute_result"
    }
   ],
   "source": [
    "scores = torch.randn(10, 4)\n",
    "scores"
   ]
  },
  {
   "cell_type": "code",
   "execution_count": 128,
   "metadata": {},
   "outputs": [],
   "source": [
    "a, b = torch.chunk(scores, 2, dim=1)"
   ]
  },
  {
   "cell_type": "code",
   "execution_count": 130,
   "metadata": {},
   "outputs": [
    {
     "data": {
      "text/plain": [
       "tensor([[ 1.5610, -1.4433],\n",
       "        [-1.2454,  0.9417],\n",
       "        [ 0.2215,  1.3320],\n",
       "        [ 0.2442,  1.4807],\n",
       "        [ 0.7070,  0.7606],\n",
       "        [ 2.2081, -2.4962],\n",
       "        [-0.8417, -0.8316],\n",
       "        [-1.6353,  1.7669],\n",
       "        [ 2.3942,  2.8423],\n",
       "        [-0.1795, -0.6369]])"
      ]
     },
     "execution_count": 130,
     "metadata": {},
     "output_type": "execute_result"
    }
   ],
   "source": [
    "b"
   ]
  },
  {
   "cell_type": "code",
   "execution_count": 125,
   "metadata": {},
   "outputs": [
    {
     "data": {
      "text/plain": [
       "tensor([[1],\n",
       "        [3],\n",
       "        [1],\n",
       "        [3],\n",
       "        [2],\n",
       "        [2],\n",
       "        [2],\n",
       "        [2],\n",
       "        [2],\n",
       "        [1]])"
      ]
     },
     "execution_count": 125,
     "metadata": {},
     "output_type": "execute_result"
    }
   ],
   "source": [
    "scores.argmax(dim=1).unsqueeze(1)"
   ]
  },
  {
   "cell_type": "code",
   "execution_count": 131,
   "metadata": {},
   "outputs": [
    {
     "data": {
      "text/plain": [
       "tensor([[0.0000e+00, 0.0000e+00, 4.3234e-37,  ..., 4.3533e+01, 3.9420e+12,\n",
       "         7.5338e+28],\n",
       "        [1.4580e-19, 2.2503e+20, 6.7003e+31,  ..., 1.4580e-19, 1.4823e+25,\n",
       "         7.1445e+31],\n",
       "        [6.0035e+22, 1.4580e-19, 1.4823e+25,  ..., 2.1707e-18, 2.8132e+23,\n",
       "         7.1558e+22],\n",
       "        ...,\n",
       "        [0.0000e+00, 0.0000e+00, 0.0000e+00,  ..., 0.0000e+00, 0.0000e+00,\n",
       "         0.0000e+00],\n",
       "        [0.0000e+00, 0.0000e+00, 0.0000e+00,  ..., 0.0000e+00, 0.0000e+00,\n",
       "         0.0000e+00],\n",
       "        [0.0000e+00, 0.0000e+00, 0.0000e+00,  ..., 0.0000e+00, 0.0000e+00,\n",
       "         0.0000e+00]])"
      ]
     },
     "execution_count": 131,
     "metadata": {},
     "output_type": "execute_result"
    }
   ],
   "source": [
    "scores.new(100, 100)"
   ]
  },
  {
   "cell_type": "code",
   "execution_count": 143,
   "metadata": {},
   "outputs": [
    {
     "data": {
      "text/plain": [
       "tensor([[-1.2767, -0.3523, -0.3513],\n",
       "        [ 0.5246, -1.2617,  0.2559]])"
      ]
     },
     "execution_count": 143,
     "metadata": {},
     "output_type": "execute_result"
    }
   ],
   "source": [
    "N, H = 2, 3\n",
    "\n",
    "h = torch.randn(N, H)\n",
    "\n",
    "h"
   ]
  },
  {
   "cell_type": "code",
   "execution_count": 145,
   "metadata": {},
   "outputs": [
    {
     "data": {
      "text/plain": [
       "tensor([[[ 0.9113, -0.6599, -0.4247, -0.1180,  0.3584],\n",
       "         [-1.7677, -0.4298, -0.5355,  1.2920, -0.1530],\n",
       "         [ 0.6885, -1.3966, -0.5080, -0.8908,  0.0473]],\n",
       "\n",
       "        [[ 0.6961,  0.0961, -1.7729, -0.9227,  3.6213],\n",
       "         [-0.4179,  1.3569, -0.6334,  0.9464,  1.0554],\n",
       "         [-1.2924,  1.5586, -1.1106, -1.4972,  0.0060]]])"
      ]
     },
     "execution_count": 145,
     "metadata": {},
     "output_type": "execute_result"
    }
   ],
   "source": [
    "A = torch.randn(N, H, 5)\n",
    "A"
   ]
  },
  {
   "cell_type": "code",
   "execution_count": 153,
   "metadata": {},
   "outputs": [
    {
     "data": {
      "text/plain": [
       "tensor([[[-1.2767, -0.3523, -0.3513]],\n",
       "\n",
       "        [[ 0.5246, -1.2617,  0.2559]]])"
      ]
     },
     "execution_count": 153,
     "metadata": {},
     "output_type": "execute_result"
    }
   ],
   "source": [
    "h.unsqueeze(1)"
   ]
  },
  {
   "cell_type": "code",
   "execution_count": 146,
   "metadata": {},
   "outputs": [
    {
     "data": {
      "text/plain": [
       "tensor([[-0.7826,  1.4846,  0.9093,  0.0083, -0.4203],\n",
       "        [ 0.5618, -1.2627, -0.4152, -2.0612,  0.5699]])"
      ]
     },
     "execution_count": 146,
     "metadata": {},
     "output_type": "execute_result"
    }
   ],
   "source": [
    "torch.bmm(h.unsqueeze(1), A).squeeze()"
   ]
  },
  {
   "cell_type": "code",
   "execution_count": 154,
   "metadata": {},
   "outputs": [
    {
     "data": {
      "text/plain": [
       "tensor([-1.2767, -0.3523, -0.3513])"
      ]
     },
     "execution_count": 154,
     "metadata": {},
     "output_type": "execute_result"
    }
   ],
   "source": [
    "first_h = h[0, :] # H\n",
    "first_h"
   ]
  },
  {
   "cell_type": "code",
   "execution_count": 155,
   "metadata": {},
   "outputs": [
    {
     "data": {
      "text/plain": [
       "tensor([[ 0.9113, -0.6599, -0.4247, -0.1180,  0.3584],\n",
       "        [-1.7677, -0.4298, -0.5355,  1.2920, -0.1530],\n",
       "        [ 0.6885, -1.3966, -0.5080, -0.8908,  0.0473]])"
      ]
     },
     "execution_count": 155,
     "metadata": {},
     "output_type": "execute_result"
    }
   ],
   "source": [
    "first_A = A[0, :, :]\n",
    "first_A"
   ]
  },
  {
   "cell_type": "code",
   "execution_count": 156,
   "metadata": {},
   "outputs": [
    {
     "data": {
      "text/plain": [
       "tensor([[-0.7826,  1.4846,  0.9093,  0.0083, -0.4203]])"
      ]
     },
     "execution_count": 156,
     "metadata": {},
     "output_type": "execute_result"
    }
   ],
   "source": [
    "first_h[None, :] @ first_A"
   ]
  },
  {
   "cell_type": "code",
   "execution_count": 1,
   "metadata": {},
   "outputs": [],
   "source": [
    "import torch\n",
    "\n",
    "l = []\n",
    "for i in range(2):\n",
    "    l.append(torch.randn(4, 3, 2))"
   ]
  },
  {
   "cell_type": "code",
   "execution_count": 3,
   "metadata": {},
   "outputs": [
    {
     "data": {
      "text/plain": [
       "torch.Size([4, 3, 4])"
      ]
     },
     "execution_count": 3,
     "metadata": {},
     "output_type": "execute_result"
    }
   ],
   "source": [
    "torch.concat(l, dim=2).shape"
   ]
  },
  {
   "cell_type": "code",
   "execution_count": 8,
   "metadata": {},
   "outputs": [
    {
     "ename": "RuntimeError",
     "evalue": "The size of tensor a (4) must match the size of tensor b (3) at non-singleton dimension 2",
     "output_type": "error",
     "traceback": [
      "\u001b[0;31m---------------------------------------------------------------------------\u001b[0m",
      "\u001b[0;31mRuntimeError\u001b[0m                              Traceback (most recent call last)",
      "Cell \u001b[0;32mIn[8], line 4\u001b[0m\n\u001b[1;32m      1\u001b[0m x \u001b[38;5;241m=\u001b[39m torch\u001b[38;5;241m.\u001b[39mrandn(\u001b[38;5;241m2\u001b[39m, \u001b[38;5;241m3\u001b[39m, \u001b[38;5;241m4\u001b[39m)\n\u001b[1;32m      2\u001b[0m mean \u001b[38;5;241m=\u001b[39m torch\u001b[38;5;241m.\u001b[39mrandn(\u001b[38;5;241m2\u001b[39m, \u001b[38;5;241m3\u001b[39m)\n\u001b[0;32m----> 4\u001b[0m (\u001b[43mx\u001b[49m\u001b[43m \u001b[49m\u001b[38;5;241;43m-\u001b[39;49m\u001b[43m \u001b[49m\u001b[43mmean\u001b[49m)\u001b[38;5;241m.\u001b[39mshape\n",
      "\u001b[0;31mRuntimeError\u001b[0m: The size of tensor a (4) must match the size of tensor b (3) at non-singleton dimension 2"
     ]
    }
   ],
   "source": [
    "x = torch.randn(2, 3, 4)\n",
    "mean = torch.randn(2, 3)\n",
    "\n",
    "(x - mean).shape"
   ]
  },
  {
   "cell_type": "code",
   "execution_count": 22,
   "metadata": {},
   "outputs": [],
   "source": [
    "import torch\n",
    "K = 5\n",
    "N = 3\n",
    "k = torch.arange(K)"
   ]
  },
  {
   "cell_type": "code",
   "execution_count": 23,
   "metadata": {},
   "outputs": [
    {
     "data": {
      "text/plain": [
       "tensor([[[1., 1., 1., 1., 1.],\n",
       "         [1., 1., 1., 1., 1.],\n",
       "         [1., 1., 1., 1., 1.],\n",
       "         [1., 1., 1., 1., 1.],\n",
       "         [1., 1., 1., 1., 1.]],\n",
       "\n",
       "        [[1., 1., 1., 1., 1.],\n",
       "         [1., 1., 1., 1., 1.],\n",
       "         [1., 1., 1., 1., 1.],\n",
       "         [1., 1., 1., 1., 1.],\n",
       "         [1., 1., 1., 1., 1.]],\n",
       "\n",
       "        [[1., 1., 1., 1., 1.],\n",
       "         [1., 1., 1., 1., 1.],\n",
       "         [1., 1., 1., 1., 1.],\n",
       "         [1., 1., 1., 1., 1.],\n",
       "         [1., 1., 1., 1., 1.]]])"
      ]
     },
     "execution_count": 23,
     "metadata": {},
     "output_type": "execute_result"
    }
   ],
   "source": [
    "x = torch.ones(N, K, K)\n",
    "x"
   ]
  },
  {
   "cell_type": "code",
   "execution_count": null,
   "metadata": {},
   "outputs": [
    {
     "ename": "RuntimeError",
     "evalue": "Index put requires the source and destination dtypes match, got Bool for the destination and Float for the source.",
     "output_type": "error",
     "traceback": [
      "\u001b[0;31m---------------------------------------------------------------------------\u001b[0m",
      "\u001b[0;31mRuntimeError\u001b[0m                              Traceback (most recent call last)",
      "Cell \u001b[0;32mIn[40], line 2\u001b[0m\n\u001b[1;32m      1\u001b[0m one_layer_mask \u001b[38;5;241m=\u001b[39m torch\u001b[38;5;241m.\u001b[39mones(K, K)\n\u001b[0;32m----> 2\u001b[0m \u001b[43mx\u001b[49m\u001b[43m[\u001b[49m\u001b[43mtorch\u001b[49m\u001b[38;5;241;43m.\u001b[39;49m\u001b[43marange\u001b[49m\u001b[43m(\u001b[49m\u001b[43mN\u001b[49m\u001b[43m)\u001b[49m\u001b[43m,\u001b[49m\u001b[43m \u001b[49m\u001b[43m:\u001b[49m\u001b[43m,\u001b[49m\u001b[43m \u001b[49m\u001b[43m:\u001b[49m\u001b[43m]\u001b[49m \u001b[38;5;241m=\u001b[39m torch\u001b[38;5;241m.\u001b[39mtriu(one_layer_mask, diagonal\u001b[38;5;241m=\u001b[39m\u001b[38;5;241m0\u001b[39m, )\n\u001b[1;32m      3\u001b[0m x \u001b[38;5;241m=\u001b[39m x\u001b[38;5;241m.\u001b[39mbool()\n\u001b[1;32m      4\u001b[0m x\n",
      "\u001b[0;31mRuntimeError\u001b[0m: Index put requires the source and destination dtypes match, got Bool for the destination and Float for the source."
     ]
    }
   ],
   "source": [
    "one_layer_mask = torch.ones(K, K)\n",
    "x[torch.arange(N), :, :] = torch.triu(one_layer_mask, diagonal=0)\n",
    "x = x.bool()\n",
    "x"
   ]
  }
 ],
 "metadata": {
  "kernelspec": {
   "display_name": "env4ml",
   "language": "python",
   "name": "env4ml"
  },
  "language_info": {
   "codemirror_mode": {
    "name": "ipython",
    "version": 3
   },
   "file_extension": ".py",
   "mimetype": "text/x-python",
   "name": "python",
   "nbconvert_exporter": "python",
   "pygments_lexer": "ipython3",
   "version": "3.11.5"
  }
 },
 "nbformat": 4,
 "nbformat_minor": 2
}
