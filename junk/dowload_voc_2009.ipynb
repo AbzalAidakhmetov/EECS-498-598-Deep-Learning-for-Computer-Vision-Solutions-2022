{
 "cells": [
  {
   "cell_type": "code",
   "execution_count": 1,
   "metadata": {},
   "outputs": [],
   "source": [
    "import multiprocessing\n",
    "\n",
    "# Set a few constants related to data loading.\n",
    "NUM_CLASSES = 20\n",
    "BATCH_SIZE = 16\n",
    "IMAGE_SHAPE = (224, 224)\n",
    "NUM_WORKERS = multiprocessing.cpu_count()"
   ]
  },
  {
   "cell_type": "code",
   "execution_count": 4,
   "metadata": {},
   "outputs": [],
   "source": [
    "import sys\n",
    "\n",
    "sys.path.append('/Users/theballer/Desktop/michigan_cv_course/A4')"
   ]
  },
  {
   "cell_type": "code",
   "execution_count": 5,
   "metadata": {},
   "outputs": [
    {
     "name": "stdout",
     "output_type": "stream",
     "text": [
      "Dataset sizes: train (2501), val (2510)\n"
     ]
    }
   ],
   "source": [
    "from a4_helper import VOC2007DetectionTiny\n",
    "\n",
    "# NOTE: Set `download=True` for the first time when you set up Google Drive folder.\n",
    "# Turn it back to `False` later for faster execution in the future.\n",
    "# If this hangs, download and place data in your drive manually as shown above.\n",
    "GOOGLE_DRIVE_PATH = './'\n",
    "train_dataset = VOC2007DetectionTiny(\n",
    "    GOOGLE_DRIVE_PATH, \"train\", image_size=IMAGE_SHAPE[0],\n",
    "    download=True  # True (for the first time)\n",
    ")\n",
    "val_dataset = VOC2007DetectionTiny(GOOGLE_DRIVE_PATH, \"val\", image_size=IMAGE_SHAPE[0])\n",
    "\n",
    "print(f\"Dataset sizes: train ({len(train_dataset)}), val ({len(val_dataset)})\")"
   ]
  }
 ],
 "metadata": {
  "kernelspec": {
   "display_name": "env4michigan",
   "language": "python",
   "name": "python3"
  },
  "language_info": {
   "codemirror_mode": {
    "name": "ipython",
    "version": 3
   },
   "file_extension": ".py",
   "mimetype": "text/x-python",
   "name": "python",
   "nbconvert_exporter": "python",
   "pygments_lexer": "ipython3",
   "version": "3.11.5"
  }
 },
 "nbformat": 4,
 "nbformat_minor": 2
}
